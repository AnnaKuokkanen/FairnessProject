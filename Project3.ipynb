{
  "cells": [
    {
      "cell_type": "markdown",
      "metadata": {
        "id": "rPN7EQj-P5GZ"
      },
      "source": [
        "## Project 3\n",
        "\n",
        "Dataset: COMPAS"
      ]
    },
    {
      "cell_type": "code",
      "execution_count": 256,
      "metadata": {
        "id": "U8B_biHyP5Gb"
      },
      "outputs": [],
      "source": [
        "import pandas as pd\n",
        "import numpy as np\n",
        "import matplotlib.pyplot as plt\n",
        "from sklearn.model_selection import train_test_split\n",
        "from sklearn.linear_model import LogisticRegression\n",
        "from sklearn.ensemble import RandomForestClassifier\n",
        "from xgboost import XGBClassifier\n",
        "from sklearn.metrics import classification_report, accuracy_score, confusion_matrix\n",
        "from tensorflow.keras.models import Sequential\n",
        "from tensorflow.keras.layers import Dense\n",
        "from tensorflow.keras.utils import to_categorical"
      ]
    },
    {
      "cell_type": "code",
      "execution_count": 257,
      "metadata": {
        "colab": {
          "base_uri": "https://localhost:8080/"
        },
        "id": "3K6QvYtDP5Gc",
        "outputId": "73a7e63e-af90-4989-fae5-807694481f1f"
      },
      "outputs": [
        {
          "output_type": "stream",
          "name": "stdout",
          "text": [
            "(7214, 53)\n",
            "Index(['id', 'name', 'first', 'last', 'compas_screening_date', 'sex', 'dob',\n",
            "       'age', 'age_cat', 'race', 'juv_fel_count', 'decile_score',\n",
            "       'juv_misd_count', 'juv_other_count', 'priors_count',\n",
            "       'days_b_screening_arrest', 'c_jail_in', 'c_jail_out', 'c_case_number',\n",
            "       'c_offense_date', 'c_arrest_date', 'c_days_from_compas',\n",
            "       'c_charge_degree', 'c_charge_desc', 'is_recid', 'r_case_number',\n",
            "       'r_charge_degree', 'r_days_from_arrest', 'r_offense_date',\n",
            "       'r_charge_desc', 'r_jail_in', 'r_jail_out', 'violent_recid',\n",
            "       'is_violent_recid', 'vr_case_number', 'vr_charge_degree',\n",
            "       'vr_offense_date', 'vr_charge_desc', 'type_of_assessment',\n",
            "       'decile_score.1', 'score_text', 'screening_date',\n",
            "       'v_type_of_assessment', 'v_decile_score', 'v_score_text',\n",
            "       'v_screening_date', 'in_custody', 'out_custody', 'priors_count.1',\n",
            "       'start', 'end', 'event', 'two_year_recid'],\n",
            "      dtype='object')\n"
          ]
        }
      ],
      "source": [
        "df = pd.read_csv(\"compas-scores-two-years.csv\")\n",
        "print(df.shape)\n",
        "print(df.columns)"
      ]
    },
    {
      "cell_type": "markdown",
      "metadata": {
        "id": "-T7gLaMpP5Gd"
      },
      "source": [
        "We will first fit a model predicting if the person will reoffend in the next two years. We could use a classifier for this.\n",
        "\n",
        "Next steps:\n",
        "\n",
        "* look at the data for bias\n",
        "* build a classifier\n",
        "\n",
        "Sensitive variables: race, sex\n",
        "\n",
        "Target variable: two_year_recid\n",
        "\n",
        "Features: age/age_cat, juv_fel_count, juv_misd_count, juv_other_count, priors_count, c_charge_degree, score_text, days_b_screening_arrest, decile_score, length_of_stay"
      ]
    },
    {
      "cell_type": "markdown",
      "metadata": {
        "id": "zTcqIQEpP5Gd"
      },
      "source": [
        "## Twin test\n",
        "\n",
        "Feature: prior convictions"
      ]
    },
    {
      "cell_type": "code",
      "execution_count": 258,
      "metadata": {
        "colab": {
          "base_uri": "https://localhost:8080/"
        },
        "id": "kj3GY5OdP5Ge",
        "outputId": "f3f746e9-e75f-43a5-8465-cde954725b46"
      },
      "outputs": [
        {
          "output_type": "stream",
          "name": "stdout",
          "text": [
            "['Minority' 'African-American' 'Caucasian' 'Hispanic']\n"
          ]
        },
        {
          "output_type": "stream",
          "name": "stderr",
          "text": [
            "<ipython-input-258-79800250a73d>:16: FutureWarning:\n",
            "\n",
            "Downcasting behavior in `replace` is deprecated and will be removed in a future version. To retain the old behavior, explicitly call `result.infer_objects(copy=False)`. To opt-in to the future behavior, set `pd.set_option('future.no_silent_downcasting', True)`\n",
            "\n"
          ]
        }
      ],
      "source": [
        "df = df[[\"race\", \"sex\", \"age_cat\", \"juv_fel_count\", \"juv_misd_count\", \"juv_other_count\", \"priors_count\", \"c_charge_degree\", \"two_year_recid\"]]\n",
        "\n",
        "df = df[(df[\"c_charge_degree\"] != 'O')]\n",
        "\n",
        "# sum 1-20 together\n",
        "df[\"juv_fel_count\"] = np.where(df[\"juv_fel_count\"] == 0, 0, 1)\n",
        "df[\"juv_misd_count\"] = np.where(df[\"juv_misd_count\"] == 0, 0, 1)\n",
        "df[\"juv_other_count\"] = np.where(df[\"juv_other_count\"] == 0, 0, 1)\n",
        "df[\"priors_count\"]\n",
        "\n",
        "df.loc[(df['priors_count'] >= 0) & (df['priors_count'] <= 10), 'priors_count'] = 0\n",
        "df.loc[(df['priors_count'] > 10) & (df['priors_count'] <= 20), 'priors_count'] = 1\n",
        "df.loc[(df['priors_count'] > 20), 'priors_count'] = 2\n",
        "\n",
        "df[\"c_charge_degree\"] = np.where(df[\"c_charge_degree\"] == \"M\", 0, 1)\n",
        "df[\"age_cat\"] = df[\"age_cat\"].replace({\"Less than 25\": 0, \"25 - 45\": 1, \"Greater than 45\": 2})\n",
        "df[\"race\"] = df[\"race\"].replace({\"Asian\": \"Minority\", \"Native American\": \"Minority\", \"Other\": \"Minority\"})\n",
        "print(df[\"race\"].unique())\n",
        "df[\"sensitive\"] = df.apply(lambda x: x[\"race\"][0] + x[\"sex\"][0], axis=1)\n",
        "\n",
        "df.head()\n",
        "df.to_csv(\"data_clean.csv\")"
      ]
    },
    {
      "cell_type": "code",
      "execution_count": 284,
      "metadata": {
        "id": "sq0EA1OKP5Ge"
      },
      "outputs": [],
      "source": [
        "import pandas as pd\n",
        "\n",
        "def individual_fairness(df, charge_column,outcome_column):\n",
        "    \"\"\"\n",
        "    Compute probabilities for individual fairness based on the sensitive attribute and a specified charge column.\n",
        "\n",
        "    Parameters\n",
        "    ----------\n",
        "    file_path : str\n",
        "        Path to the CSV file containing the data.\n",
        "    charge_column : str\n",
        "        The column name corresponding to the charge degree.\n",
        "\n",
        "    Returns\n",
        "    -------\n",
        "    pd.DataFrame\n",
        "        A DataFrame with computed probabilities for individual fairness analysis.\n",
        "    \"\"\"\n",
        "    # Read the dataset\n",
        "    # Group by sensitive attribute, charge degree, and recidivism outcome\n",
        "    df_count = df.groupby([\"sensitive\", charge_column, outcome_column]).agg(\n",
        "        count=('sensitive', 'count')).reset_index()\n",
        "\n",
        "    # Sum counts for each sensitive attribute and charge degree\n",
        "    df_sum = df_count.groupby([\"sensitive\", charge_column]).agg(\n",
        "        sum=('count', 'sum')).reset_index()\n",
        "\n",
        "    # Merge the count and sum dataframes\n",
        "    df_summary = pd.merge(df_count, df_sum, on=[\"sensitive\", charge_column])\n",
        "\n",
        "    # Calculate probabilities\n",
        "    df_summary[\"prob\"] = df_summary[\"count\"] / df_summary[\"sum\"]\n",
        "    print(outcome_column)\n",
        "    df_summary = df_summary[df_summary[outcome_column]==1]\n",
        "    # Print the summary\n",
        "    print(df_summary)\n",
        "\n",
        "    return df_summary"
      ]
    },
    {
      "cell_type": "code",
      "source": [
        "# Call the function with the appropriate file path and charge column\n",
        "df = pd.read_csv('data_clean.csv')\n",
        "\n",
        "#data_summary = individual_fairness(df, \"c_charge_degree\", 'two_year_recid')\n",
        "data_summary = individual_fairness(df, \"age_cat\", 'two_year_recid')\n",
        "#df_summary = individual_fairness(df, \"age_cat\" , 'two_year_recid')\n",
        "#df_summary = individual_fairness(df, \"juv_fel_count\" , 'two_year_recid')\n",
        "#df_summary = individual_fairness(df, \"c_charge_degree\", 'two_year_recid')\n",
        "#df_summary = individual_fairness(df, \"juv_other_count\", 'two_year_recid')\n"
      ],
      "metadata": {
        "colab": {
          "base_uri": "https://localhost:8080/"
        },
        "id": "YWsZjYzPsmxS",
        "outputId": "42fcc26d-8c73-4496-d3d3-72d6d0cf49f6"
      },
      "execution_count": 286,
      "outputs": [
        {
          "output_type": "stream",
          "name": "stdout",
          "text": [
            "two_year_recid\n",
            "   sensitive  age_cat  two_year_recid  count   sum      prob\n",
            "1         AF        0               1     76   169  0.449704\n",
            "3         AF        1               1    151   395  0.382278\n",
            "5         AF        2               1     20    88  0.227273\n",
            "7         AM        0               1    485   751  0.645806\n",
            "9         AM        1               1    959  1799  0.533074\n",
            "11        AM        2               1    210   494  0.425101\n",
            "13        CF        0               1     27    87  0.310345\n",
            "15        CF        1               1    131   309  0.423948\n",
            "17        CF        2               1     41   171  0.239766\n",
            "19        CM        0               1    164   303  0.541254\n",
            "21        CM        1               1    435  1003  0.433699\n",
            "23        CM        2               1    168   581  0.289157\n",
            "25        HF        0               1      7    17  0.411765\n",
            "27        HF        1               1     21    63  0.333333\n",
            "29        HF        2               1      5    23  0.217391\n",
            "31        HM        0               1     59   110  0.536364\n",
            "33        HM        1               1    114   304  0.375000\n",
            "35        HM        2               1     26   120  0.216667\n",
            "37        MF        0               1      3    15  0.200000\n",
            "39        MF        1               1     11    40  0.275000\n",
            "41        MF        2               1      5    18  0.277778\n",
            "43        MM        0               1     43    77  0.558442\n",
            "45        MM        1               1     67   196  0.341837\n",
            "47        MM        2               1     23    81  0.283951\n"
          ]
        }
      ]
    },
    {
      "cell_type": "code",
      "source": [
        "df.shape"
      ],
      "metadata": {
        "colab": {
          "base_uri": "https://localhost:8080/"
        },
        "id": "PxwTwzNQ_u4c",
        "outputId": "a3ee7eaf-202e-4a9f-e87e-0e7ac5505865"
      },
      "execution_count": 114,
      "outputs": [
        {
          "output_type": "execute_result",
          "data": {
            "text/plain": [
              "(7214, 11)"
            ]
          },
          "metadata": {},
          "execution_count": 114
        }
      ]
    },
    {
      "cell_type": "markdown",
      "metadata": {
        "id": "i1c6QaARP5Gf"
      },
      "source": [
        "## Group fairness\n",
        "\n",
        "only sensitive data as prior"
      ]
    },
    {
      "cell_type": "code",
      "execution_count": 296,
      "metadata": {
        "id": "KQ_iFvZPP5Gf"
      },
      "outputs": [],
      "source": [
        "import pandas as pd\n",
        "\n",
        "def group_fairness(df, sensitive_column, outcome_column):\n",
        "    \"\"\"\n",
        "    Compute probabilities for group fairness based on a sensitive attribute.\n",
        "\n",
        "    Parameters\n",
        "    ----------\n",
        "    file_path : str\n",
        "        Path to the CSV file containing the data.\n",
        "    sensitive_column : str\n",
        "        The name of the column representing the sensitive attribute.\n",
        "    outcome_column : str\n",
        "        The name of the column representing the outcome (e.g., recidivism).\n",
        "\n",
        "    Returns\n",
        "    -------\n",
        "    pd.DataFrame\n",
        "        A DataFrame with computed probabilities for group fairness analysis.\n",
        "    \"\"\"\n",
        "    # Group by sensitive attribute and outcome\n",
        "    df_count = df.groupby([sensitive_column, outcome_column]).agg(\n",
        "        count=('sensitive', 'count')).reset_index()\n",
        "\n",
        "    # Sum counts for each sensitive attribute\n",
        "    df_sum = df_count.groupby([sensitive_column]).agg(\n",
        "        sum=('count', 'sum')).reset_index()\n",
        "\n",
        "    # Merge the count and sum dataframes\n",
        "    df_summary = pd.merge(df_count, df_sum, on=[sensitive_column])\n",
        "\n",
        "    # Calculate probabilities\n",
        "    df_summary[\"prob\"] = df_summary[\"count\"] / df_summary[\"sum\"]\n",
        "    print(outcome_column)\n",
        "    df_summary = df_summary[df_summary[outcome_column]==1]\n",
        "    # Print the summary\n",
        "    # Print the summary\n",
        "    print(df_summary)\n",
        "\n",
        "    return df_summary\n"
      ]
    },
    {
      "cell_type": "code",
      "source": [
        "df = pd.read_csv('data_clean.csv')\n",
        "data_summary = group_fairness(df,\"sensitive\",'two_year_recid')"
      ],
      "metadata": {
        "colab": {
          "base_uri": "https://localhost:8080/"
        },
        "id": "OBQ3KWJCqGWk",
        "outputId": "c07aea36-b61c-43fd-b2da-63a6ec90f4bb"
      },
      "execution_count": 297,
      "outputs": [
        {
          "output_type": "stream",
          "name": "stdout",
          "text": [
            "two_year_recid\n",
            "   sensitive  two_year_recid  count   sum      prob\n",
            "1         AF               1    247   652  0.378834\n",
            "3         AM               1   1654  3044  0.543364\n",
            "5         CF               1    199   567  0.350970\n",
            "7         CM               1    767  1887  0.406465\n",
            "9         HF               1     33   103  0.320388\n",
            "11        HM               1    199   534  0.372659\n",
            "13        MF               1     19    73  0.260274\n",
            "15        MM               1    133   354  0.375706\n"
          ]
        }
      ]
    },
    {
      "cell_type": "markdown",
      "metadata": {
        "id": "SMSrDBSYP5Gg"
      },
      "source": [
        "## Model"
      ]
    },
    {
      "cell_type": "code",
      "execution_count": 298,
      "metadata": {
        "colab": {
          "base_uri": "https://localhost:8080/"
        },
        "id": "jj2zokuJP5Gg",
        "outputId": "5359a44f-7187-49fb-9e7d-0db5a8b62880"
      },
      "outputs": [
        {
          "output_type": "stream",
          "name": "stdout",
          "text": [
            "              precision    recall  f1-score   support\n",
            "\n",
            "           0       0.65      0.80      0.72       823\n",
            "           1       0.62      0.42      0.50       620\n",
            "\n",
            "    accuracy                           0.64      1443\n",
            "   macro avg       0.63      0.61      0.61      1443\n",
            "weighted avg       0.64      0.64      0.63      1443\n",
            "\n"
          ]
        }
      ],
      "source": [
        "df = pd.read_csv(\"data_clean.csv\")\n",
        "\n",
        "# Select relevant columns for features and target\n",
        "features = df.iloc[:, 3:-2]\n",
        "\n",
        "target = df['two_year_recid']\n",
        "\n",
        "# Handle missing values if any\n",
        "features = features.fillna(0)\n",
        "\n",
        "# Split into train and test sets\n",
        "X_train, X_test, y_train, y_test = train_test_split(features, target, test_size=0.2, random_state=42)\n",
        "\n",
        "# Train a logistic regression model\n",
        "model = LogisticRegression(max_iter=1000)\n",
        "#model = RandomForestClassifier(n_estimators=100, random_state=42)\n",
        "# Train an XGBoost model (replacing Logistic Regression)\n",
        "#model = XGBClassifier(use_label_encoder=False, eval_metric='logloss', random_state=42)\n",
        "model.fit(X_train, y_train)\n",
        "\n",
        "#model.fit(X_train, y_train)\n",
        "\n",
        "# Make predictions\n",
        "y_test_pred = model.predict(X_test)\n",
        "y_train_pred = model.predict(X_train)\n",
        "\n",
        "# Evaluate model performance\n",
        "accuracy = accuracy_score(y_test, y_test_pred)\n",
        "report = classification_report(y_test, y_test_pred)\n",
        "print(report)"
      ]
    },
    {
      "cell_type": "code",
      "source": [
        "df_test = X_test.copy()\n",
        "df_test['two_year_recid_actual'] = y_test\n",
        "df_test['two_year_recid_predicted'] = y_test_pred\n",
        "df_test[\"sensitive\"] = df.loc[df_test.index.values, \"sensitive\"]\n",
        "df_test[\"data_split\"] = \"test\"\n",
        "\n",
        "# Create a DataFrame for the training set\n",
        "df_train = X_train.copy()\n",
        "df_train['two_year_recid_actual'] = y_train\n",
        "df_train['two_year_recid_predicted'] = y_train_pred\n",
        "df_train[\"sensitive\"] = df.loc[df_train.index.values, \"sensitive\"]\n",
        "df_train[\"data_split\"] = \"train\"\n",
        "\n",
        "# Concatenate train and test results\n",
        "all_results = pd.concat([df_train, df_test], ignore_index=True)"
      ],
      "metadata": {
        "id": "Sj6WzxvzxUk-"
      },
      "execution_count": 299,
      "outputs": []
    },
    {
      "cell_type": "code",
      "execution_count": 289,
      "metadata": {
        "colab": {
          "base_uri": "https://localhost:8080/"
        },
        "id": "PVC9hMlGP5Gg",
        "outputId": "55e54776-2505-400a-884a-17d5d2d02bbb"
      },
      "outputs": [
        {
          "output_type": "stream",
          "name": "stdout",
          "text": [
            "two_year_recid_predicted\n",
            "   sensitive  age_cat  two_year_recid_predicted  count   sum      prob\n",
            "1         AF        0                         1    118   169  0.698225\n",
            "3         AF        1                         1     47   395  0.118987\n",
            "5         AF        2                         1     10    88  0.113636\n",
            "7         AM        0                         1    620   751  0.825566\n",
            "9         AM        1                         1    484  1799  0.269038\n",
            "11        AM        2                         1    138   494  0.279352\n",
            "13        CF        0                         1     60    87  0.689655\n",
            "15        CF        1                         1     19   309  0.061489\n",
            "17        CF        2                         1      7   171  0.040936\n",
            "19        CM        0                         1    241   303  0.795380\n",
            "21        CM        1                         1    109  1003  0.108674\n",
            "23        CM        2                         1     42   581  0.072289\n",
            "25        HF        0                         1     10    17  0.588235\n",
            "27        HF        1                         1      4    63  0.063492\n",
            "30        HM        0                         1     82   110  0.745455\n",
            "32        HM        1                         1     38   304  0.125000\n",
            "34        HM        2                         1      7   120  0.058333\n",
            "36        MF        0                         1      7    15  0.466667\n",
            "38        MF        1                         1      2    40  0.050000\n",
            "40        MF        2                         1      1    18  0.055556\n",
            "42        MM        0                         1     55    77  0.714286\n",
            "44        MM        1                         1     11   196  0.056122\n",
            "46        MM        2                         1      6    81  0.074074\n"
          ]
        }
      ],
      "source": [
        "model_summary = individual_fairness(all_results, \"age_cat\", 'two_year_recid_predicted')"
      ]
    },
    {
      "cell_type": "code",
      "source": [
        "model_summary = group_fairness(all_results,\"sensitive\",'two_year_recid_predicted')"
      ],
      "metadata": {
        "colab": {
          "base_uri": "https://localhost:8080/"
        },
        "id": "0C9x8HAg265F",
        "outputId": "76326f6e-17d4-45e3-8915-3d4d68374cc0"
      },
      "execution_count": 300,
      "outputs": [
        {
          "output_type": "stream",
          "name": "stdout",
          "text": [
            "two_year_recid_predicted\n",
            "   sensitive  two_year_recid_predicted  count   sum      prob\n",
            "1         AF                         1    175   652  0.268405\n",
            "3         AM                         1   1242  3044  0.408016\n",
            "5         CF                         1     86   567  0.151675\n",
            "7         CM                         1    392  1887  0.207737\n",
            "9         HF                         1     14   103  0.135922\n",
            "11        HM                         1    127   534  0.237828\n",
            "13        MF                         1     10    73  0.136986\n",
            "15        MM                         1     72   354  0.203390\n"
          ]
        }
      ]
    },
    {
      "cell_type": "code",
      "source": [
        "data_summary"
      ],
      "metadata": {
        "colab": {
          "base_uri": "https://localhost:8080/",
          "height": 551
        },
        "id": "0LnAWkksbybI",
        "outputId": "30dcded1-dc78-450d-858e-ec5b9a191c9a"
      },
      "execution_count": 280,
      "outputs": [
        {
          "output_type": "execute_result",
          "data": {
            "text/plain": [
              "   sensitive  c_charge_degree  two_year_recid  count   sum      prob\n",
              "1         AF                0               1     72   229  0.314410\n",
              "3         AF                1               1    175   423  0.413712\n",
              "5         AM                0               1    450   920  0.489130\n",
              "7         AM                1               1   1204  2124  0.566855\n",
              "9         CF                0               1     69   259  0.266409\n",
              "11        CF                1               1    130   308  0.422078\n",
              "13        CM                0               1    256   715  0.358042\n",
              "15        CM                1               1    511  1172  0.436007\n",
              "17        HF                0               1     12    50  0.240000\n",
              "19        HF                1               1     21    53  0.396226\n",
              "21        HM                0               1     67   218  0.307339\n",
              "23        HM                1               1    132   316  0.417722\n",
              "25        MF                0               1      6    28  0.214286\n",
              "27        MF                1               1     13    45  0.288889\n",
              "29        MM                0               1     37   129  0.286822\n",
              "31        MM                1               1     96   225  0.426667"
            ],
            "text/html": [
              "\n",
              "  <div id=\"df-20bf7c7c-ceb2-4431-914c-a8ab5b7c6ca2\" class=\"colab-df-container\">\n",
              "    <div>\n",
              "<style scoped>\n",
              "    .dataframe tbody tr th:only-of-type {\n",
              "        vertical-align: middle;\n",
              "    }\n",
              "\n",
              "    .dataframe tbody tr th {\n",
              "        vertical-align: top;\n",
              "    }\n",
              "\n",
              "    .dataframe thead th {\n",
              "        text-align: right;\n",
              "    }\n",
              "</style>\n",
              "<table border=\"1\" class=\"dataframe\">\n",
              "  <thead>\n",
              "    <tr style=\"text-align: right;\">\n",
              "      <th></th>\n",
              "      <th>sensitive</th>\n",
              "      <th>c_charge_degree</th>\n",
              "      <th>two_year_recid</th>\n",
              "      <th>count</th>\n",
              "      <th>sum</th>\n",
              "      <th>prob</th>\n",
              "    </tr>\n",
              "  </thead>\n",
              "  <tbody>\n",
              "    <tr>\n",
              "      <th>1</th>\n",
              "      <td>AF</td>\n",
              "      <td>0</td>\n",
              "      <td>1</td>\n",
              "      <td>72</td>\n",
              "      <td>229</td>\n",
              "      <td>0.314410</td>\n",
              "    </tr>\n",
              "    <tr>\n",
              "      <th>3</th>\n",
              "      <td>AF</td>\n",
              "      <td>1</td>\n",
              "      <td>1</td>\n",
              "      <td>175</td>\n",
              "      <td>423</td>\n",
              "      <td>0.413712</td>\n",
              "    </tr>\n",
              "    <tr>\n",
              "      <th>5</th>\n",
              "      <td>AM</td>\n",
              "      <td>0</td>\n",
              "      <td>1</td>\n",
              "      <td>450</td>\n",
              "      <td>920</td>\n",
              "      <td>0.489130</td>\n",
              "    </tr>\n",
              "    <tr>\n",
              "      <th>7</th>\n",
              "      <td>AM</td>\n",
              "      <td>1</td>\n",
              "      <td>1</td>\n",
              "      <td>1204</td>\n",
              "      <td>2124</td>\n",
              "      <td>0.566855</td>\n",
              "    </tr>\n",
              "    <tr>\n",
              "      <th>9</th>\n",
              "      <td>CF</td>\n",
              "      <td>0</td>\n",
              "      <td>1</td>\n",
              "      <td>69</td>\n",
              "      <td>259</td>\n",
              "      <td>0.266409</td>\n",
              "    </tr>\n",
              "    <tr>\n",
              "      <th>11</th>\n",
              "      <td>CF</td>\n",
              "      <td>1</td>\n",
              "      <td>1</td>\n",
              "      <td>130</td>\n",
              "      <td>308</td>\n",
              "      <td>0.422078</td>\n",
              "    </tr>\n",
              "    <tr>\n",
              "      <th>13</th>\n",
              "      <td>CM</td>\n",
              "      <td>0</td>\n",
              "      <td>1</td>\n",
              "      <td>256</td>\n",
              "      <td>715</td>\n",
              "      <td>0.358042</td>\n",
              "    </tr>\n",
              "    <tr>\n",
              "      <th>15</th>\n",
              "      <td>CM</td>\n",
              "      <td>1</td>\n",
              "      <td>1</td>\n",
              "      <td>511</td>\n",
              "      <td>1172</td>\n",
              "      <td>0.436007</td>\n",
              "    </tr>\n",
              "    <tr>\n",
              "      <th>17</th>\n",
              "      <td>HF</td>\n",
              "      <td>0</td>\n",
              "      <td>1</td>\n",
              "      <td>12</td>\n",
              "      <td>50</td>\n",
              "      <td>0.240000</td>\n",
              "    </tr>\n",
              "    <tr>\n",
              "      <th>19</th>\n",
              "      <td>HF</td>\n",
              "      <td>1</td>\n",
              "      <td>1</td>\n",
              "      <td>21</td>\n",
              "      <td>53</td>\n",
              "      <td>0.396226</td>\n",
              "    </tr>\n",
              "    <tr>\n",
              "      <th>21</th>\n",
              "      <td>HM</td>\n",
              "      <td>0</td>\n",
              "      <td>1</td>\n",
              "      <td>67</td>\n",
              "      <td>218</td>\n",
              "      <td>0.307339</td>\n",
              "    </tr>\n",
              "    <tr>\n",
              "      <th>23</th>\n",
              "      <td>HM</td>\n",
              "      <td>1</td>\n",
              "      <td>1</td>\n",
              "      <td>132</td>\n",
              "      <td>316</td>\n",
              "      <td>0.417722</td>\n",
              "    </tr>\n",
              "    <tr>\n",
              "      <th>25</th>\n",
              "      <td>MF</td>\n",
              "      <td>0</td>\n",
              "      <td>1</td>\n",
              "      <td>6</td>\n",
              "      <td>28</td>\n",
              "      <td>0.214286</td>\n",
              "    </tr>\n",
              "    <tr>\n",
              "      <th>27</th>\n",
              "      <td>MF</td>\n",
              "      <td>1</td>\n",
              "      <td>1</td>\n",
              "      <td>13</td>\n",
              "      <td>45</td>\n",
              "      <td>0.288889</td>\n",
              "    </tr>\n",
              "    <tr>\n",
              "      <th>29</th>\n",
              "      <td>MM</td>\n",
              "      <td>0</td>\n",
              "      <td>1</td>\n",
              "      <td>37</td>\n",
              "      <td>129</td>\n",
              "      <td>0.286822</td>\n",
              "    </tr>\n",
              "    <tr>\n",
              "      <th>31</th>\n",
              "      <td>MM</td>\n",
              "      <td>1</td>\n",
              "      <td>1</td>\n",
              "      <td>96</td>\n",
              "      <td>225</td>\n",
              "      <td>0.426667</td>\n",
              "    </tr>\n",
              "  </tbody>\n",
              "</table>\n",
              "</div>\n",
              "    <div class=\"colab-df-buttons\">\n",
              "\n",
              "  <div class=\"colab-df-container\">\n",
              "    <button class=\"colab-df-convert\" onclick=\"convertToInteractive('df-20bf7c7c-ceb2-4431-914c-a8ab5b7c6ca2')\"\n",
              "            title=\"Convert this dataframe to an interactive table.\"\n",
              "            style=\"display:none;\">\n",
              "\n",
              "  <svg xmlns=\"http://www.w3.org/2000/svg\" height=\"24px\" viewBox=\"0 -960 960 960\">\n",
              "    <path d=\"M120-120v-720h720v720H120Zm60-500h600v-160H180v160Zm220 220h160v-160H400v160Zm0 220h160v-160H400v160ZM180-400h160v-160H180v160Zm440 0h160v-160H620v160ZM180-180h160v-160H180v160Zm440 0h160v-160H620v160Z\"/>\n",
              "  </svg>\n",
              "    </button>\n",
              "\n",
              "  <style>\n",
              "    .colab-df-container {\n",
              "      display:flex;\n",
              "      gap: 12px;\n",
              "    }\n",
              "\n",
              "    .colab-df-convert {\n",
              "      background-color: #E8F0FE;\n",
              "      border: none;\n",
              "      border-radius: 50%;\n",
              "      cursor: pointer;\n",
              "      display: none;\n",
              "      fill: #1967D2;\n",
              "      height: 32px;\n",
              "      padding: 0 0 0 0;\n",
              "      width: 32px;\n",
              "    }\n",
              "\n",
              "    .colab-df-convert:hover {\n",
              "      background-color: #E2EBFA;\n",
              "      box-shadow: 0px 1px 2px rgba(60, 64, 67, 0.3), 0px 1px 3px 1px rgba(60, 64, 67, 0.15);\n",
              "      fill: #174EA6;\n",
              "    }\n",
              "\n",
              "    .colab-df-buttons div {\n",
              "      margin-bottom: 4px;\n",
              "    }\n",
              "\n",
              "    [theme=dark] .colab-df-convert {\n",
              "      background-color: #3B4455;\n",
              "      fill: #D2E3FC;\n",
              "    }\n",
              "\n",
              "    [theme=dark] .colab-df-convert:hover {\n",
              "      background-color: #434B5C;\n",
              "      box-shadow: 0px 1px 3px 1px rgba(0, 0, 0, 0.15);\n",
              "      filter: drop-shadow(0px 1px 2px rgba(0, 0, 0, 0.3));\n",
              "      fill: #FFFFFF;\n",
              "    }\n",
              "  </style>\n",
              "\n",
              "    <script>\n",
              "      const buttonEl =\n",
              "        document.querySelector('#df-20bf7c7c-ceb2-4431-914c-a8ab5b7c6ca2 button.colab-df-convert');\n",
              "      buttonEl.style.display =\n",
              "        google.colab.kernel.accessAllowed ? 'block' : 'none';\n",
              "\n",
              "      async function convertToInteractive(key) {\n",
              "        const element = document.querySelector('#df-20bf7c7c-ceb2-4431-914c-a8ab5b7c6ca2');\n",
              "        const dataTable =\n",
              "          await google.colab.kernel.invokeFunction('convertToInteractive',\n",
              "                                                    [key], {});\n",
              "        if (!dataTable) return;\n",
              "\n",
              "        const docLinkHtml = 'Like what you see? Visit the ' +\n",
              "          '<a target=\"_blank\" href=https://colab.research.google.com/notebooks/data_table.ipynb>data table notebook</a>'\n",
              "          + ' to learn more about interactive tables.';\n",
              "        element.innerHTML = '';\n",
              "        dataTable['output_type'] = 'display_data';\n",
              "        await google.colab.output.renderOutput(dataTable, element);\n",
              "        const docLink = document.createElement('div');\n",
              "        docLink.innerHTML = docLinkHtml;\n",
              "        element.appendChild(docLink);\n",
              "      }\n",
              "    </script>\n",
              "  </div>\n",
              "\n",
              "\n",
              "<div id=\"df-cef8ce8a-56d9-4edd-82e6-dea2bf066c02\">\n",
              "  <button class=\"colab-df-quickchart\" onclick=\"quickchart('df-cef8ce8a-56d9-4edd-82e6-dea2bf066c02')\"\n",
              "            title=\"Suggest charts\"\n",
              "            style=\"display:none;\">\n",
              "\n",
              "<svg xmlns=\"http://www.w3.org/2000/svg\" height=\"24px\"viewBox=\"0 0 24 24\"\n",
              "     width=\"24px\">\n",
              "    <g>\n",
              "        <path d=\"M19 3H5c-1.1 0-2 .9-2 2v14c0 1.1.9 2 2 2h14c1.1 0 2-.9 2-2V5c0-1.1-.9-2-2-2zM9 17H7v-7h2v7zm4 0h-2V7h2v10zm4 0h-2v-4h2v4z\"/>\n",
              "    </g>\n",
              "</svg>\n",
              "  </button>\n",
              "\n",
              "<style>\n",
              "  .colab-df-quickchart {\n",
              "      --bg-color: #E8F0FE;\n",
              "      --fill-color: #1967D2;\n",
              "      --hover-bg-color: #E2EBFA;\n",
              "      --hover-fill-color: #174EA6;\n",
              "      --disabled-fill-color: #AAA;\n",
              "      --disabled-bg-color: #DDD;\n",
              "  }\n",
              "\n",
              "  [theme=dark] .colab-df-quickchart {\n",
              "      --bg-color: #3B4455;\n",
              "      --fill-color: #D2E3FC;\n",
              "      --hover-bg-color: #434B5C;\n",
              "      --hover-fill-color: #FFFFFF;\n",
              "      --disabled-bg-color: #3B4455;\n",
              "      --disabled-fill-color: #666;\n",
              "  }\n",
              "\n",
              "  .colab-df-quickchart {\n",
              "    background-color: var(--bg-color);\n",
              "    border: none;\n",
              "    border-radius: 50%;\n",
              "    cursor: pointer;\n",
              "    display: none;\n",
              "    fill: var(--fill-color);\n",
              "    height: 32px;\n",
              "    padding: 0;\n",
              "    width: 32px;\n",
              "  }\n",
              "\n",
              "  .colab-df-quickchart:hover {\n",
              "    background-color: var(--hover-bg-color);\n",
              "    box-shadow: 0 1px 2px rgba(60, 64, 67, 0.3), 0 1px 3px 1px rgba(60, 64, 67, 0.15);\n",
              "    fill: var(--button-hover-fill-color);\n",
              "  }\n",
              "\n",
              "  .colab-df-quickchart-complete:disabled,\n",
              "  .colab-df-quickchart-complete:disabled:hover {\n",
              "    background-color: var(--disabled-bg-color);\n",
              "    fill: var(--disabled-fill-color);\n",
              "    box-shadow: none;\n",
              "  }\n",
              "\n",
              "  .colab-df-spinner {\n",
              "    border: 2px solid var(--fill-color);\n",
              "    border-color: transparent;\n",
              "    border-bottom-color: var(--fill-color);\n",
              "    animation:\n",
              "      spin 1s steps(1) infinite;\n",
              "  }\n",
              "\n",
              "  @keyframes spin {\n",
              "    0% {\n",
              "      border-color: transparent;\n",
              "      border-bottom-color: var(--fill-color);\n",
              "      border-left-color: var(--fill-color);\n",
              "    }\n",
              "    20% {\n",
              "      border-color: transparent;\n",
              "      border-left-color: var(--fill-color);\n",
              "      border-top-color: var(--fill-color);\n",
              "    }\n",
              "    30% {\n",
              "      border-color: transparent;\n",
              "      border-left-color: var(--fill-color);\n",
              "      border-top-color: var(--fill-color);\n",
              "      border-right-color: var(--fill-color);\n",
              "    }\n",
              "    40% {\n",
              "      border-color: transparent;\n",
              "      border-right-color: var(--fill-color);\n",
              "      border-top-color: var(--fill-color);\n",
              "    }\n",
              "    60% {\n",
              "      border-color: transparent;\n",
              "      border-right-color: var(--fill-color);\n",
              "    }\n",
              "    80% {\n",
              "      border-color: transparent;\n",
              "      border-right-color: var(--fill-color);\n",
              "      border-bottom-color: var(--fill-color);\n",
              "    }\n",
              "    90% {\n",
              "      border-color: transparent;\n",
              "      border-bottom-color: var(--fill-color);\n",
              "    }\n",
              "  }\n",
              "</style>\n",
              "\n",
              "  <script>\n",
              "    async function quickchart(key) {\n",
              "      const quickchartButtonEl =\n",
              "        document.querySelector('#' + key + ' button');\n",
              "      quickchartButtonEl.disabled = true;  // To prevent multiple clicks.\n",
              "      quickchartButtonEl.classList.add('colab-df-spinner');\n",
              "      try {\n",
              "        const charts = await google.colab.kernel.invokeFunction(\n",
              "            'suggestCharts', [key], {});\n",
              "      } catch (error) {\n",
              "        console.error('Error during call to suggestCharts:', error);\n",
              "      }\n",
              "      quickchartButtonEl.classList.remove('colab-df-spinner');\n",
              "      quickchartButtonEl.classList.add('colab-df-quickchart-complete');\n",
              "    }\n",
              "    (() => {\n",
              "      let quickchartButtonEl =\n",
              "        document.querySelector('#df-cef8ce8a-56d9-4edd-82e6-dea2bf066c02 button');\n",
              "      quickchartButtonEl.style.display =\n",
              "        google.colab.kernel.accessAllowed ? 'block' : 'none';\n",
              "    })();\n",
              "  </script>\n",
              "</div>\n",
              "\n",
              "  <div id=\"id_dd2521e1-e183-4ed6-a1db-450b808158a2\">\n",
              "    <style>\n",
              "      .colab-df-generate {\n",
              "        background-color: #E8F0FE;\n",
              "        border: none;\n",
              "        border-radius: 50%;\n",
              "        cursor: pointer;\n",
              "        display: none;\n",
              "        fill: #1967D2;\n",
              "        height: 32px;\n",
              "        padding: 0 0 0 0;\n",
              "        width: 32px;\n",
              "      }\n",
              "\n",
              "      .colab-df-generate:hover {\n",
              "        background-color: #E2EBFA;\n",
              "        box-shadow: 0px 1px 2px rgba(60, 64, 67, 0.3), 0px 1px 3px 1px rgba(60, 64, 67, 0.15);\n",
              "        fill: #174EA6;\n",
              "      }\n",
              "\n",
              "      [theme=dark] .colab-df-generate {\n",
              "        background-color: #3B4455;\n",
              "        fill: #D2E3FC;\n",
              "      }\n",
              "\n",
              "      [theme=dark] .colab-df-generate:hover {\n",
              "        background-color: #434B5C;\n",
              "        box-shadow: 0px 1px 3px 1px rgba(0, 0, 0, 0.15);\n",
              "        filter: drop-shadow(0px 1px 2px rgba(0, 0, 0, 0.3));\n",
              "        fill: #FFFFFF;\n",
              "      }\n",
              "    </style>\n",
              "    <button class=\"colab-df-generate\" onclick=\"generateWithVariable('data_summary')\"\n",
              "            title=\"Generate code using this dataframe.\"\n",
              "            style=\"display:none;\">\n",
              "\n",
              "  <svg xmlns=\"http://www.w3.org/2000/svg\" height=\"24px\"viewBox=\"0 0 24 24\"\n",
              "       width=\"24px\">\n",
              "    <path d=\"M7,19H8.4L18.45,9,17,7.55,7,17.6ZM5,21V16.75L18.45,3.32a2,2,0,0,1,2.83,0l1.4,1.43a1.91,1.91,0,0,1,.58,1.4,1.91,1.91,0,0,1-.58,1.4L9.25,21ZM18.45,9,17,7.55Zm-12,3A5.31,5.31,0,0,0,4.9,8.1,5.31,5.31,0,0,0,1,6.5,5.31,5.31,0,0,0,4.9,4.9,5.31,5.31,0,0,0,6.5,1,5.31,5.31,0,0,0,8.1,4.9,5.31,5.31,0,0,0,12,6.5,5.46,5.46,0,0,0,6.5,12Z\"/>\n",
              "  </svg>\n",
              "    </button>\n",
              "    <script>\n",
              "      (() => {\n",
              "      const buttonEl =\n",
              "        document.querySelector('#id_dd2521e1-e183-4ed6-a1db-450b808158a2 button.colab-df-generate');\n",
              "      buttonEl.style.display =\n",
              "        google.colab.kernel.accessAllowed ? 'block' : 'none';\n",
              "\n",
              "      buttonEl.onclick = () => {\n",
              "        google.colab.notebook.generateWithVariable('data_summary');\n",
              "      }\n",
              "      })();\n",
              "    </script>\n",
              "  </div>\n",
              "\n",
              "    </div>\n",
              "  </div>\n"
            ],
            "application/vnd.google.colaboratory.intrinsic+json": {
              "type": "dataframe",
              "variable_name": "data_summary",
              "summary": "{\n  \"name\": \"data_summary\",\n  \"rows\": 16,\n  \"fields\": [\n    {\n      \"column\": \"sensitive\",\n      \"properties\": {\n        \"dtype\": \"string\",\n        \"num_unique_values\": 8,\n        \"samples\": [\n          \"AM\",\n          \"HM\",\n          \"AF\"\n        ],\n        \"semantic_type\": \"\",\n        \"description\": \"\"\n      }\n    },\n    {\n      \"column\": \"c_charge_degree\",\n      \"properties\": {\n        \"dtype\": \"number\",\n        \"std\": 0,\n        \"min\": 0,\n        \"max\": 1,\n        \"num_unique_values\": 2,\n        \"samples\": [\n          1,\n          0\n        ],\n        \"semantic_type\": \"\",\n        \"description\": \"\"\n      }\n    },\n    {\n      \"column\": \"two_year_recid\",\n      \"properties\": {\n        \"dtype\": \"number\",\n        \"std\": 0,\n        \"min\": 1,\n        \"max\": 1,\n        \"num_unique_values\": 1,\n        \"samples\": [\n          1\n        ],\n        \"semantic_type\": \"\",\n        \"description\": \"\"\n      }\n    },\n    {\n      \"column\": \"count\",\n      \"properties\": {\n        \"dtype\": \"number\",\n        \"std\": 306,\n        \"min\": 6,\n        \"max\": 1204,\n        \"num_unique_values\": 16,\n        \"samples\": [\n          72\n        ],\n        \"semantic_type\": \"\",\n        \"description\": \"\"\n      }\n    },\n    {\n      \"column\": \"sum\",\n      \"properties\": {\n        \"dtype\": \"number\",\n        \"std\": 554,\n        \"min\": 28,\n        \"max\": 2124,\n        \"num_unique_values\": 16,\n        \"samples\": [\n          229\n        ],\n        \"semantic_type\": \"\",\n        \"description\": \"\"\n      }\n    },\n    {\n      \"column\": \"prob\",\n      \"properties\": {\n        \"dtype\": \"number\",\n        \"std\": 0.0967056406328459,\n        \"min\": 0.21428571428571427,\n        \"max\": 0.5668549905838042,\n        \"num_unique_values\": 16,\n        \"samples\": [\n          0.314410480349345\n        ],\n        \"semantic_type\": \"\",\n        \"description\": \"\"\n      }\n    }\n  ]\n}"
            }
          },
          "metadata": {},
          "execution_count": 280
        }
      ]
    },
    {
      "cell_type": "code",
      "source": [
        "import pandas as pd\n",
        "import plotly.express as px\n",
        "\n",
        "def plot_probabilities_plotly(model_summary, data_summary, sensitive_columns, prob_columns):\n",
        "    \"\"\"\n",
        "    Function to plot probabilities using Plotly, grouped by sensitive columns.\n",
        "\n",
        "    Parameters:\n",
        "    - model_summary: DataFrame containing model-specific summaries.\n",
        "    - data_summary: DataFrame containing data-specific summaries.\n",
        "    - sensitive_columns: List of column names that are sensitive (e.g., gender, race).\n",
        "    - prob_columns: List of columns that represent probabilities (e.g., prob1, prob2).\n",
        "    \"\"\"\n",
        "    # Add a 'Type' column to distinguish model and data summaries\n",
        "    model_summary['Type'] = 'Model'\n",
        "    data_summary['Type'] = 'Data'\n",
        "\n",
        "    # Combine both dataframes into one\n",
        "    combined_df = pd.concat([model_summary, data_summary])\n",
        "\n",
        "    # Melt the dataframe to get a long-form table\n",
        "    melted_df = combined_df.melt(id_vars=sensitive_columns + ['Type'], value_vars=prob_columns,\n",
        "                                 var_name='Probability', value_name='Value')\n",
        "    print(melted_df)\n",
        "    # Create an interactive bar plot using Plotly Express\n",
        "    fig = px.bar(melted_df, x='Probability', y='Value', color='Type',\n",
        "                 barmode='group', facet_col='sensitive',  # You can adjust facets based on other columns\n",
        "                 title=\"Probabilities by Sensitive Columns and Model/Data Type\",\n",
        "                 labels={'Value': 'Probability'},\n",
        "                 category_orders={'Probability': prob_columns})  # Preserve the order of prob columns\n",
        "\n",
        "    # Show the plot\n",
        "    fig.update_layout(yaxis_title=\"Probability\")\n",
        "    fig.show()\n",
        "# Example usage:\n",
        "# Let's assume `model_summary` and `data_summary` are your dataframes\n"
      ],
      "metadata": {
        "id": "Q-l1faKydOcQ"
      },
      "execution_count": 290,
      "outputs": []
    },
    {
      "cell_type": "code",
      "source": [
        "#df_model = model_summary[model_summary['age_cat']==1]\n",
        "#df_data = data_summary[data_summary['age_cat']==1]\n",
        "df_model = model_summary\n",
        "df_data = data_summary\n",
        "\n",
        "sensitive_columns = ['sensitive']\n",
        "prob_columns = ['prob']\n",
        "\n",
        "# You can call the function as follows:\n",
        "plot_probabilities_plotly(df_model, df_data, sensitive_columns, prob_columns)\n"
      ],
      "metadata": {
        "colab": {
          "base_uri": "https://localhost:8080/",
          "height": 846
        },
        "id": "hd13s5UFg5I8",
        "outputId": "c2949ab5-85da-47f0-f3b2-ad6c363a8601"
      },
      "execution_count": 302,
      "outputs": [
        {
          "output_type": "stream",
          "name": "stdout",
          "text": [
            "   sensitive   Type Probability     Value\n",
            "0         AF  Model        prob  0.268405\n",
            "1         AM  Model        prob  0.408016\n",
            "2         CF  Model        prob  0.151675\n",
            "3         CM  Model        prob  0.207737\n",
            "4         HF  Model        prob  0.135922\n",
            "5         HM  Model        prob  0.237828\n",
            "6         MF  Model        prob  0.136986\n",
            "7         MM  Model        prob  0.203390\n",
            "8         AF   Data        prob  0.378834\n",
            "9         AM   Data        prob  0.543364\n",
            "10        CF   Data        prob  0.350970\n",
            "11        CM   Data        prob  0.406465\n",
            "12        HF   Data        prob  0.320388\n",
            "13        HM   Data        prob  0.372659\n",
            "14        MF   Data        prob  0.260274\n",
            "15        MM   Data        prob  0.375706\n"
          ]
        },
        {
          "output_type": "display_data",
          "data": {
            "text/html": [
              "<html>\n",
              "<head><meta charset=\"utf-8\" /></head>\n",
              "<body>\n",
              "    <div>            <script src=\"https://cdnjs.cloudflare.com/ajax/libs/mathjax/2.7.5/MathJax.js?config=TeX-AMS-MML_SVG\"></script><script type=\"text/javascript\">if (window.MathJax && window.MathJax.Hub && window.MathJax.Hub.Config) {window.MathJax.Hub.Config({SVG: {font: \"STIX-Web\"}});}</script>                <script type=\"text/javascript\">window.PlotlyConfig = {MathJaxConfig: 'local'};</script>\n",
              "        <script charset=\"utf-8\" src=\"https://cdn.plot.ly/plotly-2.35.2.min.js\"></script>                <div id=\"ad6a5e69-afa3-4483-b257-e497416ac9b8\" class=\"plotly-graph-div\" style=\"height:525px; width:100%;\"></div>            <script type=\"text/javascript\">                                    window.PLOTLYENV=window.PLOTLYENV || {};                                    if (document.getElementById(\"ad6a5e69-afa3-4483-b257-e497416ac9b8\")) {                    Plotly.newPlot(                        \"ad6a5e69-afa3-4483-b257-e497416ac9b8\",                        [{\"alignmentgroup\":\"True\",\"hovertemplate\":\"Type=Model\\u003cbr\\u003esensitive=AF\\u003cbr\\u003eProbability=%{y}\\u003cextra\\u003e\\u003c\\u002fextra\\u003e\",\"legendgroup\":\"Model\",\"marker\":{\"color\":\"#636efa\",\"pattern\":{\"shape\":\"\"}},\"name\":\"Model\",\"offsetgroup\":\"Model\",\"orientation\":\"v\",\"showlegend\":true,\"textposition\":\"auto\",\"x\":[\"prob\"],\"xaxis\":\"x\",\"y\":[0.2684049079754601],\"yaxis\":\"y\",\"type\":\"bar\"},{\"alignmentgroup\":\"True\",\"hovertemplate\":\"Type=Model\\u003cbr\\u003esensitive=AM\\u003cbr\\u003eProbability=%{y}\\u003cextra\\u003e\\u003c\\u002fextra\\u003e\",\"legendgroup\":\"Model\",\"marker\":{\"color\":\"#636efa\",\"pattern\":{\"shape\":\"\"}},\"name\":\"Model\",\"offsetgroup\":\"Model\",\"orientation\":\"v\",\"showlegend\":false,\"textposition\":\"auto\",\"x\":[\"prob\"],\"xaxis\":\"x2\",\"y\":[0.4080157687253614],\"yaxis\":\"y2\",\"type\":\"bar\"},{\"alignmentgroup\":\"True\",\"hovertemplate\":\"Type=Model\\u003cbr\\u003esensitive=CF\\u003cbr\\u003eProbability=%{y}\\u003cextra\\u003e\\u003c\\u002fextra\\u003e\",\"legendgroup\":\"Model\",\"marker\":{\"color\":\"#636efa\",\"pattern\":{\"shape\":\"\"}},\"name\":\"Model\",\"offsetgroup\":\"Model\",\"orientation\":\"v\",\"showlegend\":false,\"textposition\":\"auto\",\"x\":[\"prob\"],\"xaxis\":\"x3\",\"y\":[0.15167548500881833],\"yaxis\":\"y3\",\"type\":\"bar\"},{\"alignmentgroup\":\"True\",\"hovertemplate\":\"Type=Model\\u003cbr\\u003esensitive=CM\\u003cbr\\u003eProbability=%{y}\\u003cextra\\u003e\\u003c\\u002fextra\\u003e\",\"legendgroup\":\"Model\",\"marker\":{\"color\":\"#636efa\",\"pattern\":{\"shape\":\"\"}},\"name\":\"Model\",\"offsetgroup\":\"Model\",\"orientation\":\"v\",\"showlegend\":false,\"textposition\":\"auto\",\"x\":[\"prob\"],\"xaxis\":\"x4\",\"y\":[0.2077371489136195],\"yaxis\":\"y4\",\"type\":\"bar\"},{\"alignmentgroup\":\"True\",\"hovertemplate\":\"Type=Model\\u003cbr\\u003esensitive=HF\\u003cbr\\u003eProbability=%{y}\\u003cextra\\u003e\\u003c\\u002fextra\\u003e\",\"legendgroup\":\"Model\",\"marker\":{\"color\":\"#636efa\",\"pattern\":{\"shape\":\"\"}},\"name\":\"Model\",\"offsetgroup\":\"Model\",\"orientation\":\"v\",\"showlegend\":false,\"textposition\":\"auto\",\"x\":[\"prob\"],\"xaxis\":\"x5\",\"y\":[0.13592233009708737],\"yaxis\":\"y5\",\"type\":\"bar\"},{\"alignmentgroup\":\"True\",\"hovertemplate\":\"Type=Model\\u003cbr\\u003esensitive=HM\\u003cbr\\u003eProbability=%{y}\\u003cextra\\u003e\\u003c\\u002fextra\\u003e\",\"legendgroup\":\"Model\",\"marker\":{\"color\":\"#636efa\",\"pattern\":{\"shape\":\"\"}},\"name\":\"Model\",\"offsetgroup\":\"Model\",\"orientation\":\"v\",\"showlegend\":false,\"textposition\":\"auto\",\"x\":[\"prob\"],\"xaxis\":\"x6\",\"y\":[0.23782771535580524],\"yaxis\":\"y6\",\"type\":\"bar\"},{\"alignmentgroup\":\"True\",\"hovertemplate\":\"Type=Model\\u003cbr\\u003esensitive=MF\\u003cbr\\u003eProbability=%{y}\\u003cextra\\u003e\\u003c\\u002fextra\\u003e\",\"legendgroup\":\"Model\",\"marker\":{\"color\":\"#636efa\",\"pattern\":{\"shape\":\"\"}},\"name\":\"Model\",\"offsetgroup\":\"Model\",\"orientation\":\"v\",\"showlegend\":false,\"textposition\":\"auto\",\"x\":[\"prob\"],\"xaxis\":\"x7\",\"y\":[0.136986301369863],\"yaxis\":\"y7\",\"type\":\"bar\"},{\"alignmentgroup\":\"True\",\"hovertemplate\":\"Type=Model\\u003cbr\\u003esensitive=MM\\u003cbr\\u003eProbability=%{y}\\u003cextra\\u003e\\u003c\\u002fextra\\u003e\",\"legendgroup\":\"Model\",\"marker\":{\"color\":\"#636efa\",\"pattern\":{\"shape\":\"\"}},\"name\":\"Model\",\"offsetgroup\":\"Model\",\"orientation\":\"v\",\"showlegend\":false,\"textposition\":\"auto\",\"x\":[\"prob\"],\"xaxis\":\"x8\",\"y\":[0.2033898305084746],\"yaxis\":\"y8\",\"type\":\"bar\"},{\"alignmentgroup\":\"True\",\"hovertemplate\":\"Type=Data\\u003cbr\\u003esensitive=AF\\u003cbr\\u003eProbability=%{y}\\u003cextra\\u003e\\u003c\\u002fextra\\u003e\",\"legendgroup\":\"Data\",\"marker\":{\"color\":\"#EF553B\",\"pattern\":{\"shape\":\"\"}},\"name\":\"Data\",\"offsetgroup\":\"Data\",\"orientation\":\"v\",\"showlegend\":true,\"textposition\":\"auto\",\"x\":[\"prob\"],\"xaxis\":\"x\",\"y\":[0.37883435582822084],\"yaxis\":\"y\",\"type\":\"bar\"},{\"alignmentgroup\":\"True\",\"hovertemplate\":\"Type=Data\\u003cbr\\u003esensitive=AM\\u003cbr\\u003eProbability=%{y}\\u003cextra\\u003e\\u003c\\u002fextra\\u003e\",\"legendgroup\":\"Data\",\"marker\":{\"color\":\"#EF553B\",\"pattern\":{\"shape\":\"\"}},\"name\":\"Data\",\"offsetgroup\":\"Data\",\"orientation\":\"v\",\"showlegend\":false,\"textposition\":\"auto\",\"x\":[\"prob\"],\"xaxis\":\"x2\",\"y\":[0.5433639947437582],\"yaxis\":\"y2\",\"type\":\"bar\"},{\"alignmentgroup\":\"True\",\"hovertemplate\":\"Type=Data\\u003cbr\\u003esensitive=CF\\u003cbr\\u003eProbability=%{y}\\u003cextra\\u003e\\u003c\\u002fextra\\u003e\",\"legendgroup\":\"Data\",\"marker\":{\"color\":\"#EF553B\",\"pattern\":{\"shape\":\"\"}},\"name\":\"Data\",\"offsetgroup\":\"Data\",\"orientation\":\"v\",\"showlegend\":false,\"textposition\":\"auto\",\"x\":[\"prob\"],\"xaxis\":\"x3\",\"y\":[0.3509700176366843],\"yaxis\":\"y3\",\"type\":\"bar\"},{\"alignmentgroup\":\"True\",\"hovertemplate\":\"Type=Data\\u003cbr\\u003esensitive=CM\\u003cbr\\u003eProbability=%{y}\\u003cextra\\u003e\\u003c\\u002fextra\\u003e\",\"legendgroup\":\"Data\",\"marker\":{\"color\":\"#EF553B\",\"pattern\":{\"shape\":\"\"}},\"name\":\"Data\",\"offsetgroup\":\"Data\",\"orientation\":\"v\",\"showlegend\":false,\"textposition\":\"auto\",\"x\":[\"prob\"],\"xaxis\":\"x4\",\"y\":[0.40646528881823],\"yaxis\":\"y4\",\"type\":\"bar\"},{\"alignmentgroup\":\"True\",\"hovertemplate\":\"Type=Data\\u003cbr\\u003esensitive=HF\\u003cbr\\u003eProbability=%{y}\\u003cextra\\u003e\\u003c\\u002fextra\\u003e\",\"legendgroup\":\"Data\",\"marker\":{\"color\":\"#EF553B\",\"pattern\":{\"shape\":\"\"}},\"name\":\"Data\",\"offsetgroup\":\"Data\",\"orientation\":\"v\",\"showlegend\":false,\"textposition\":\"auto\",\"x\":[\"prob\"],\"xaxis\":\"x5\",\"y\":[0.32038834951456313],\"yaxis\":\"y5\",\"type\":\"bar\"},{\"alignmentgroup\":\"True\",\"hovertemplate\":\"Type=Data\\u003cbr\\u003esensitive=HM\\u003cbr\\u003eProbability=%{y}\\u003cextra\\u003e\\u003c\\u002fextra\\u003e\",\"legendgroup\":\"Data\",\"marker\":{\"color\":\"#EF553B\",\"pattern\":{\"shape\":\"\"}},\"name\":\"Data\",\"offsetgroup\":\"Data\",\"orientation\":\"v\",\"showlegend\":false,\"textposition\":\"auto\",\"x\":[\"prob\"],\"xaxis\":\"x6\",\"y\":[0.37265917602996257],\"yaxis\":\"y6\",\"type\":\"bar\"},{\"alignmentgroup\":\"True\",\"hovertemplate\":\"Type=Data\\u003cbr\\u003esensitive=MF\\u003cbr\\u003eProbability=%{y}\\u003cextra\\u003e\\u003c\\u002fextra\\u003e\",\"legendgroup\":\"Data\",\"marker\":{\"color\":\"#EF553B\",\"pattern\":{\"shape\":\"\"}},\"name\":\"Data\",\"offsetgroup\":\"Data\",\"orientation\":\"v\",\"showlegend\":false,\"textposition\":\"auto\",\"x\":[\"prob\"],\"xaxis\":\"x7\",\"y\":[0.2602739726027397],\"yaxis\":\"y7\",\"type\":\"bar\"},{\"alignmentgroup\":\"True\",\"hovertemplate\":\"Type=Data\\u003cbr\\u003esensitive=MM\\u003cbr\\u003eProbability=%{y}\\u003cextra\\u003e\\u003c\\u002fextra\\u003e\",\"legendgroup\":\"Data\",\"marker\":{\"color\":\"#EF553B\",\"pattern\":{\"shape\":\"\"}},\"name\":\"Data\",\"offsetgroup\":\"Data\",\"orientation\":\"v\",\"showlegend\":false,\"textposition\":\"auto\",\"x\":[\"prob\"],\"xaxis\":\"x8\",\"y\":[0.3757062146892655],\"yaxis\":\"y8\",\"type\":\"bar\"}],                        {\"template\":{\"data\":{\"histogram2dcontour\":[{\"type\":\"histogram2dcontour\",\"colorbar\":{\"outlinewidth\":0,\"ticks\":\"\"},\"colorscale\":[[0.0,\"#0d0887\"],[0.1111111111111111,\"#46039f\"],[0.2222222222222222,\"#7201a8\"],[0.3333333333333333,\"#9c179e\"],[0.4444444444444444,\"#bd3786\"],[0.5555555555555556,\"#d8576b\"],[0.6666666666666666,\"#ed7953\"],[0.7777777777777778,\"#fb9f3a\"],[0.8888888888888888,\"#fdca26\"],[1.0,\"#f0f921\"]]}],\"choropleth\":[{\"type\":\"choropleth\",\"colorbar\":{\"outlinewidth\":0,\"ticks\":\"\"}}],\"histogram2d\":[{\"type\":\"histogram2d\",\"colorbar\":{\"outlinewidth\":0,\"ticks\":\"\"},\"colorscale\":[[0.0,\"#0d0887\"],[0.1111111111111111,\"#46039f\"],[0.2222222222222222,\"#7201a8\"],[0.3333333333333333,\"#9c179e\"],[0.4444444444444444,\"#bd3786\"],[0.5555555555555556,\"#d8576b\"],[0.6666666666666666,\"#ed7953\"],[0.7777777777777778,\"#fb9f3a\"],[0.8888888888888888,\"#fdca26\"],[1.0,\"#f0f921\"]]}],\"heatmap\":[{\"type\":\"heatmap\",\"colorbar\":{\"outlinewidth\":0,\"ticks\":\"\"},\"colorscale\":[[0.0,\"#0d0887\"],[0.1111111111111111,\"#46039f\"],[0.2222222222222222,\"#7201a8\"],[0.3333333333333333,\"#9c179e\"],[0.4444444444444444,\"#bd3786\"],[0.5555555555555556,\"#d8576b\"],[0.6666666666666666,\"#ed7953\"],[0.7777777777777778,\"#fb9f3a\"],[0.8888888888888888,\"#fdca26\"],[1.0,\"#f0f921\"]]}],\"heatmapgl\":[{\"type\":\"heatmapgl\",\"colorbar\":{\"outlinewidth\":0,\"ticks\":\"\"},\"colorscale\":[[0.0,\"#0d0887\"],[0.1111111111111111,\"#46039f\"],[0.2222222222222222,\"#7201a8\"],[0.3333333333333333,\"#9c179e\"],[0.4444444444444444,\"#bd3786\"],[0.5555555555555556,\"#d8576b\"],[0.6666666666666666,\"#ed7953\"],[0.7777777777777778,\"#fb9f3a\"],[0.8888888888888888,\"#fdca26\"],[1.0,\"#f0f921\"]]}],\"contourcarpet\":[{\"type\":\"contourcarpet\",\"colorbar\":{\"outlinewidth\":0,\"ticks\":\"\"}}],\"contour\":[{\"type\":\"contour\",\"colorbar\":{\"outlinewidth\":0,\"ticks\":\"\"},\"colorscale\":[[0.0,\"#0d0887\"],[0.1111111111111111,\"#46039f\"],[0.2222222222222222,\"#7201a8\"],[0.3333333333333333,\"#9c179e\"],[0.4444444444444444,\"#bd3786\"],[0.5555555555555556,\"#d8576b\"],[0.6666666666666666,\"#ed7953\"],[0.7777777777777778,\"#fb9f3a\"],[0.8888888888888888,\"#fdca26\"],[1.0,\"#f0f921\"]]}],\"surface\":[{\"type\":\"surface\",\"colorbar\":{\"outlinewidth\":0,\"ticks\":\"\"},\"colorscale\":[[0.0,\"#0d0887\"],[0.1111111111111111,\"#46039f\"],[0.2222222222222222,\"#7201a8\"],[0.3333333333333333,\"#9c179e\"],[0.4444444444444444,\"#bd3786\"],[0.5555555555555556,\"#d8576b\"],[0.6666666666666666,\"#ed7953\"],[0.7777777777777778,\"#fb9f3a\"],[0.8888888888888888,\"#fdca26\"],[1.0,\"#f0f921\"]]}],\"mesh3d\":[{\"type\":\"mesh3d\",\"colorbar\":{\"outlinewidth\":0,\"ticks\":\"\"}}],\"scatter\":[{\"fillpattern\":{\"fillmode\":\"overlay\",\"size\":10,\"solidity\":0.2},\"type\":\"scatter\"}],\"parcoords\":[{\"type\":\"parcoords\",\"line\":{\"colorbar\":{\"outlinewidth\":0,\"ticks\":\"\"}}}],\"scatterpolargl\":[{\"type\":\"scatterpolargl\",\"marker\":{\"colorbar\":{\"outlinewidth\":0,\"ticks\":\"\"}}}],\"bar\":[{\"error_x\":{\"color\":\"#2a3f5f\"},\"error_y\":{\"color\":\"#2a3f5f\"},\"marker\":{\"line\":{\"color\":\"#E5ECF6\",\"width\":0.5},\"pattern\":{\"fillmode\":\"overlay\",\"size\":10,\"solidity\":0.2}},\"type\":\"bar\"}],\"scattergeo\":[{\"type\":\"scattergeo\",\"marker\":{\"colorbar\":{\"outlinewidth\":0,\"ticks\":\"\"}}}],\"scatterpolar\":[{\"type\":\"scatterpolar\",\"marker\":{\"colorbar\":{\"outlinewidth\":0,\"ticks\":\"\"}}}],\"histogram\":[{\"marker\":{\"pattern\":{\"fillmode\":\"overlay\",\"size\":10,\"solidity\":0.2}},\"type\":\"histogram\"}],\"scattergl\":[{\"type\":\"scattergl\",\"marker\":{\"colorbar\":{\"outlinewidth\":0,\"ticks\":\"\"}}}],\"scatter3d\":[{\"type\":\"scatter3d\",\"line\":{\"colorbar\":{\"outlinewidth\":0,\"ticks\":\"\"}},\"marker\":{\"colorbar\":{\"outlinewidth\":0,\"ticks\":\"\"}}}],\"scattermapbox\":[{\"type\":\"scattermapbox\",\"marker\":{\"colorbar\":{\"outlinewidth\":0,\"ticks\":\"\"}}}],\"scatterternary\":[{\"type\":\"scatterternary\",\"marker\":{\"colorbar\":{\"outlinewidth\":0,\"ticks\":\"\"}}}],\"scattercarpet\":[{\"type\":\"scattercarpet\",\"marker\":{\"colorbar\":{\"outlinewidth\":0,\"ticks\":\"\"}}}],\"carpet\":[{\"aaxis\":{\"endlinecolor\":\"#2a3f5f\",\"gridcolor\":\"white\",\"linecolor\":\"white\",\"minorgridcolor\":\"white\",\"startlinecolor\":\"#2a3f5f\"},\"baxis\":{\"endlinecolor\":\"#2a3f5f\",\"gridcolor\":\"white\",\"linecolor\":\"white\",\"minorgridcolor\":\"white\",\"startlinecolor\":\"#2a3f5f\"},\"type\":\"carpet\"}],\"table\":[{\"cells\":{\"fill\":{\"color\":\"#EBF0F8\"},\"line\":{\"color\":\"white\"}},\"header\":{\"fill\":{\"color\":\"#C8D4E3\"},\"line\":{\"color\":\"white\"}},\"type\":\"table\"}],\"barpolar\":[{\"marker\":{\"line\":{\"color\":\"#E5ECF6\",\"width\":0.5},\"pattern\":{\"fillmode\":\"overlay\",\"size\":10,\"solidity\":0.2}},\"type\":\"barpolar\"}],\"pie\":[{\"automargin\":true,\"type\":\"pie\"}]},\"layout\":{\"autotypenumbers\":\"strict\",\"colorway\":[\"#636efa\",\"#EF553B\",\"#00cc96\",\"#ab63fa\",\"#FFA15A\",\"#19d3f3\",\"#FF6692\",\"#B6E880\",\"#FF97FF\",\"#FECB52\"],\"font\":{\"color\":\"#2a3f5f\"},\"hovermode\":\"closest\",\"hoverlabel\":{\"align\":\"left\"},\"paper_bgcolor\":\"white\",\"plot_bgcolor\":\"#E5ECF6\",\"polar\":{\"bgcolor\":\"#E5ECF6\",\"angularaxis\":{\"gridcolor\":\"white\",\"linecolor\":\"white\",\"ticks\":\"\"},\"radialaxis\":{\"gridcolor\":\"white\",\"linecolor\":\"white\",\"ticks\":\"\"}},\"ternary\":{\"bgcolor\":\"#E5ECF6\",\"aaxis\":{\"gridcolor\":\"white\",\"linecolor\":\"white\",\"ticks\":\"\"},\"baxis\":{\"gridcolor\":\"white\",\"linecolor\":\"white\",\"ticks\":\"\"},\"caxis\":{\"gridcolor\":\"white\",\"linecolor\":\"white\",\"ticks\":\"\"}},\"coloraxis\":{\"colorbar\":{\"outlinewidth\":0,\"ticks\":\"\"}},\"colorscale\":{\"sequential\":[[0.0,\"#0d0887\"],[0.1111111111111111,\"#46039f\"],[0.2222222222222222,\"#7201a8\"],[0.3333333333333333,\"#9c179e\"],[0.4444444444444444,\"#bd3786\"],[0.5555555555555556,\"#d8576b\"],[0.6666666666666666,\"#ed7953\"],[0.7777777777777778,\"#fb9f3a\"],[0.8888888888888888,\"#fdca26\"],[1.0,\"#f0f921\"]],\"sequentialminus\":[[0.0,\"#0d0887\"],[0.1111111111111111,\"#46039f\"],[0.2222222222222222,\"#7201a8\"],[0.3333333333333333,\"#9c179e\"],[0.4444444444444444,\"#bd3786\"],[0.5555555555555556,\"#d8576b\"],[0.6666666666666666,\"#ed7953\"],[0.7777777777777778,\"#fb9f3a\"],[0.8888888888888888,\"#fdca26\"],[1.0,\"#f0f921\"]],\"diverging\":[[0,\"#8e0152\"],[0.1,\"#c51b7d\"],[0.2,\"#de77ae\"],[0.3,\"#f1b6da\"],[0.4,\"#fde0ef\"],[0.5,\"#f7f7f7\"],[0.6,\"#e6f5d0\"],[0.7,\"#b8e186\"],[0.8,\"#7fbc41\"],[0.9,\"#4d9221\"],[1,\"#276419\"]]},\"xaxis\":{\"gridcolor\":\"white\",\"linecolor\":\"white\",\"ticks\":\"\",\"title\":{\"standoff\":15},\"zerolinecolor\":\"white\",\"automargin\":true,\"zerolinewidth\":2},\"yaxis\":{\"gridcolor\":\"white\",\"linecolor\":\"white\",\"ticks\":\"\",\"title\":{\"standoff\":15},\"zerolinecolor\":\"white\",\"automargin\":true,\"zerolinewidth\":2},\"scene\":{\"xaxis\":{\"backgroundcolor\":\"#E5ECF6\",\"gridcolor\":\"white\",\"linecolor\":\"white\",\"showbackground\":true,\"ticks\":\"\",\"zerolinecolor\":\"white\",\"gridwidth\":2},\"yaxis\":{\"backgroundcolor\":\"#E5ECF6\",\"gridcolor\":\"white\",\"linecolor\":\"white\",\"showbackground\":true,\"ticks\":\"\",\"zerolinecolor\":\"white\",\"gridwidth\":2},\"zaxis\":{\"backgroundcolor\":\"#E5ECF6\",\"gridcolor\":\"white\",\"linecolor\":\"white\",\"showbackground\":true,\"ticks\":\"\",\"zerolinecolor\":\"white\",\"gridwidth\":2}},\"shapedefaults\":{\"line\":{\"color\":\"#2a3f5f\"}},\"annotationdefaults\":{\"arrowcolor\":\"#2a3f5f\",\"arrowhead\":0,\"arrowwidth\":1},\"geo\":{\"bgcolor\":\"white\",\"landcolor\":\"#E5ECF6\",\"subunitcolor\":\"white\",\"showland\":true,\"showlakes\":true,\"lakecolor\":\"white\"},\"title\":{\"x\":0.05},\"mapbox\":{\"style\":\"light\"}}},\"xaxis\":{\"anchor\":\"y\",\"domain\":[0.0,0.1075],\"title\":{\"text\":\"Probability\"},\"categoryorder\":\"array\",\"categoryarray\":[\"prob\"]},\"yaxis\":{\"anchor\":\"x\",\"domain\":[0.0,1.0],\"title\":{\"text\":\"Probability\"}},\"xaxis2\":{\"anchor\":\"y2\",\"domain\":[0.1275,0.235],\"matches\":\"x\",\"title\":{\"text\":\"Probability\"},\"categoryorder\":\"array\",\"categoryarray\":[\"prob\"]},\"yaxis2\":{\"anchor\":\"x2\",\"domain\":[0.0,1.0],\"matches\":\"y\",\"showticklabels\":false},\"xaxis3\":{\"anchor\":\"y3\",\"domain\":[0.255,0.3625],\"matches\":\"x\",\"title\":{\"text\":\"Probability\"},\"categoryorder\":\"array\",\"categoryarray\":[\"prob\"]},\"yaxis3\":{\"anchor\":\"x3\",\"domain\":[0.0,1.0],\"matches\":\"y\",\"showticklabels\":false},\"xaxis4\":{\"anchor\":\"y4\",\"domain\":[0.3825,0.49],\"matches\":\"x\",\"title\":{\"text\":\"Probability\"},\"categoryorder\":\"array\",\"categoryarray\":[\"prob\"]},\"yaxis4\":{\"anchor\":\"x4\",\"domain\":[0.0,1.0],\"matches\":\"y\",\"showticklabels\":false},\"xaxis5\":{\"anchor\":\"y5\",\"domain\":[0.51,0.6175],\"matches\":\"x\",\"title\":{\"text\":\"Probability\"},\"categoryorder\":\"array\",\"categoryarray\":[\"prob\"]},\"yaxis5\":{\"anchor\":\"x5\",\"domain\":[0.0,1.0],\"matches\":\"y\",\"showticklabels\":false},\"xaxis6\":{\"anchor\":\"y6\",\"domain\":[0.6375,0.745],\"matches\":\"x\",\"title\":{\"text\":\"Probability\"},\"categoryorder\":\"array\",\"categoryarray\":[\"prob\"]},\"yaxis6\":{\"anchor\":\"x6\",\"domain\":[0.0,1.0],\"matches\":\"y\",\"showticklabels\":false},\"xaxis7\":{\"anchor\":\"y7\",\"domain\":[0.765,0.8725],\"matches\":\"x\",\"title\":{\"text\":\"Probability\"},\"categoryorder\":\"array\",\"categoryarray\":[\"prob\"]},\"yaxis7\":{\"anchor\":\"x7\",\"domain\":[0.0,1.0],\"matches\":\"y\",\"showticklabels\":false},\"xaxis8\":{\"anchor\":\"y8\",\"domain\":[0.8925000000000001,1.0],\"matches\":\"x\",\"title\":{\"text\":\"Probability\"},\"categoryorder\":\"array\",\"categoryarray\":[\"prob\"]},\"yaxis8\":{\"anchor\":\"x8\",\"domain\":[0.0,1.0],\"matches\":\"y\",\"showticklabels\":false},\"annotations\":[{\"font\":{},\"showarrow\":false,\"text\":\"sensitive=AF\",\"x\":0.05375,\"xanchor\":\"center\",\"xref\":\"paper\",\"y\":1.0,\"yanchor\":\"bottom\",\"yref\":\"paper\"},{\"font\":{},\"showarrow\":false,\"text\":\"sensitive=AM\",\"x\":0.18125,\"xanchor\":\"center\",\"xref\":\"paper\",\"y\":1.0,\"yanchor\":\"bottom\",\"yref\":\"paper\"},{\"font\":{},\"showarrow\":false,\"text\":\"sensitive=CF\",\"x\":0.30874999999999997,\"xanchor\":\"center\",\"xref\":\"paper\",\"y\":1.0,\"yanchor\":\"bottom\",\"yref\":\"paper\"},{\"font\":{},\"showarrow\":false,\"text\":\"sensitive=CM\",\"x\":0.43625,\"xanchor\":\"center\",\"xref\":\"paper\",\"y\":1.0,\"yanchor\":\"bottom\",\"yref\":\"paper\"},{\"font\":{},\"showarrow\":false,\"text\":\"sensitive=HF\",\"x\":0.56375,\"xanchor\":\"center\",\"xref\":\"paper\",\"y\":1.0,\"yanchor\":\"bottom\",\"yref\":\"paper\"},{\"font\":{},\"showarrow\":false,\"text\":\"sensitive=HM\",\"x\":0.6912499999999999,\"xanchor\":\"center\",\"xref\":\"paper\",\"y\":1.0,\"yanchor\":\"bottom\",\"yref\":\"paper\"},{\"font\":{},\"showarrow\":false,\"text\":\"sensitive=MF\",\"x\":0.8187500000000001,\"xanchor\":\"center\",\"xref\":\"paper\",\"y\":1.0,\"yanchor\":\"bottom\",\"yref\":\"paper\"},{\"font\":{},\"showarrow\":false,\"text\":\"sensitive=MM\",\"x\":0.94625,\"xanchor\":\"center\",\"xref\":\"paper\",\"y\":1.0,\"yanchor\":\"bottom\",\"yref\":\"paper\"}],\"legend\":{\"title\":{\"text\":\"Type\"},\"tracegroupgap\":0},\"title\":{\"text\":\"Probabilities by Sensitive Columns and Model\\u002fData Type\"},\"barmode\":\"group\"},                        {\"responsive\": true}                    ).then(function(){\n",
              "                            \n",
              "var gd = document.getElementById('ad6a5e69-afa3-4483-b257-e497416ac9b8');\n",
              "var x = new MutationObserver(function (mutations, observer) {{\n",
              "        var display = window.getComputedStyle(gd).display;\n",
              "        if (!display || display === 'none') {{\n",
              "            console.log([gd, 'removed!']);\n",
              "            Plotly.purge(gd);\n",
              "            observer.disconnect();\n",
              "        }}\n",
              "}});\n",
              "\n",
              "// Listen for the removal of the full notebook cells\n",
              "var notebookContainer = gd.closest('#notebook-container');\n",
              "if (notebookContainer) {{\n",
              "    x.observe(notebookContainer, {childList: true});\n",
              "}}\n",
              "\n",
              "// Listen for the clearing of the current output cell\n",
              "var outputEl = gd.closest('.output');\n",
              "if (outputEl) {{\n",
              "    x.observe(outputEl, {childList: true});\n",
              "}}\n",
              "\n",
              "                        })                };                            </script>        </div>\n",
              "</body>\n",
              "</html>"
            ]
          },
          "metadata": {}
        }
      ]
    },
    {
      "cell_type": "code",
      "source": [
        "df_summary = group_fairness(df_test,\"sensitive\",'two_year_recid_predicted')"
      ],
      "metadata": {
        "colab": {
          "base_uri": "https://localhost:8080/"
        },
        "id": "N9qt0IlxZGl6",
        "outputId": "923d0502-6fea-407c-a256-459ddcf745ac"
      },
      "execution_count": 99,
      "outputs": [
        {
          "output_type": "stream",
          "name": "stdout",
          "text": [
            "   sensitive  two_year_recid_predicted  count  sum      prob\n",
            "0         AF                         0     80  107  0.747664\n",
            "1         AF                         1     27  107  0.252336\n",
            "2         AM                         0    362  624  0.580128\n",
            "3         AM                         1    262  624  0.419872\n",
            "4         CF                         0     88  107  0.822430\n",
            "5         CF                         1     19  107  0.177570\n",
            "6         CM                         0    322  398  0.809045\n",
            "7         CM                         1     76  398  0.190955\n",
            "8         HF                         0     17   20  0.850000\n",
            "9         HF                         1      3   20  0.150000\n",
            "10        HM                         0     72   97  0.742268\n",
            "11        HM                         1     25   97  0.257732\n",
            "12        MF                         0     14   16  0.875000\n",
            "13        MF                         1      2   16  0.125000\n",
            "14        MM                         0     60   74  0.810811\n",
            "15        MM                         1     14   74  0.189189\n"
          ]
        }
      ]
    },
    {
      "cell_type": "markdown",
      "metadata": {
        "id": "CoqaUCVuP5Gh"
      },
      "source": [
        "Note! When looking at c_charge_degree we found that the model was more biased toward African-American males than Caucasian males (prediction for AM 0.5 vs. CM 0.27; in data AM 0.56 and CM 0.43)"
      ]
    },
    {
      "cell_type": "code",
      "source": [
        "# Load the data\n",
        "df = pd.read_csv(\"data_clean.csv\")\n",
        "\n",
        "# Select relevant columns for features and target\n",
        "features = df.iloc[:, 3:-2]\n",
        "target = df['two_year_recid']\n",
        "\n",
        "# Handle missing values if any\n",
        "features = features.fillna(0)\n",
        "\n",
        "# Convert target to categorical if necessary\n",
        "# (Assuming binary classification: 0 and 1)\n",
        "target = to_categorical(target, num_classes=2)\n",
        "\n",
        "# Split into train and test sets\n",
        "X_train, X_test, y_train, y_test = train_test_split(features, target, test_size=0.3, random_state=42)\n",
        "\n",
        "# Build a simple neural network\n",
        "model = Sequential([\n",
        "    Dense(64, input_dim=features.shape[1], activation='relu'),  # Hidden layer with 64 neurons\n",
        "    Dense(32, activation='relu'),  # Hidden layer with 32 neurons\n",
        "    Dense(2, activation='softmax')  # Output layer (2 classes)\n",
        "])\n",
        "\n",
        "# Compile the model\n",
        "model.compile(optimizer='adam', loss='categorical_crossentropy', metrics=['accuracy'])\n",
        "\n",
        "# Train the model\n",
        "model.fit(X_train, y_train, epochs=20, batch_size=32, validation_split=0.2, verbose=1)\n",
        "\n",
        "# Make predictions\n",
        "y_pred = model.predict(X_test)\n",
        "y_pred_classes = y_pred.argmax(axis=1)\n",
        "y_test_classes = y_test.argmax(axis=1)\n",
        "\n",
        "# Evaluate model performance\n",
        "accuracy = accuracy_score(y_test_classes, y_pred_classes)\n",
        "report = classification_report(y_test_classes, y_pred_classes)\n",
        "\n",
        "# Print results\n",
        "print(f\"Accuracy: {accuracy:.2f}\")\n",
        "print(report)\n"
      ],
      "metadata": {
        "id": "j2gkhyzb3QkI"
      },
      "execution_count": null,
      "outputs": []
    },
    {
      "cell_type": "code",
      "source": [
        "df_test = X_test.copy()\n",
        "df_test['two_year_recid_actual'] = y_test.argmax(axis=1)\n",
        "df_test['two_year_recid_predicted'] = y_pred.argmax(axis=1)\n",
        "\n",
        "df_test[\"sensitive\"] = df.loc[df_test.index.values, \"sensitive\"]"
      ],
      "metadata": {
        "id": "mRi_z5zY3WRE"
      },
      "execution_count": null,
      "outputs": []
    },
    {
      "cell_type": "code",
      "source": [],
      "metadata": {
        "id": "bYnF7PogNvTk"
      },
      "execution_count": null,
      "outputs": []
    }
  ],
  "metadata": {
    "kernelspec": {
      "display_name": "Python 3",
      "language": "python",
      "name": "python3"
    },
    "language_info": {
      "codemirror_mode": {
        "name": "ipython",
        "version": 3
      },
      "file_extension": ".py",
      "mimetype": "text/x-python",
      "name": "python",
      "nbconvert_exporter": "python",
      "pygments_lexer": "ipython3",
      "version": "3.11.0"
    },
    "colab": {
      "provenance": []
    }
  },
  "nbformat": 4,
  "nbformat_minor": 0
}
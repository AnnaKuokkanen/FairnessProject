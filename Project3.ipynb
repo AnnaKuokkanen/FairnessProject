{
 "cells": [
  {
   "cell_type": "markdown",
   "metadata": {},
   "source": [
    "## Project 3\n",
    "\n",
    "Dataset: COMPAS"
   ]
  },
  {
   "cell_type": "code",
   "execution_count": 45,
   "metadata": {},
   "outputs": [],
   "source": [
    "import pandas as pd\n",
    "import numpy as np\n",
    "import matplotlib.pyplot as plt\n",
    "from xgboost import XGBClassifier\n",
    "from sklearn.model_selection import train_test_split\n",
    "from sklearn.linear_model import LogisticRegression\n",
    "from sklearn.metrics import classification_report, accuracy_score, confusion_matrix"
   ]
  },
  {
   "cell_type": "code",
   "execution_count": 46,
   "metadata": {},
   "outputs": [
    {
     "name": "stdout",
     "output_type": "stream",
     "text": [
      "(7214, 53)\n",
      "Index(['id', 'name', 'first', 'last', 'compas_screening_date', 'sex', 'dob',\n",
      "       'age', 'age_cat', 'race', 'juv_fel_count', 'decile_score',\n",
      "       'juv_misd_count', 'juv_other_count', 'priors_count',\n",
      "       'days_b_screening_arrest', 'c_jail_in', 'c_jail_out', 'c_case_number',\n",
      "       'c_offense_date', 'c_arrest_date', 'c_days_from_compas',\n",
      "       'c_charge_degree', 'c_charge_desc', 'is_recid', 'r_case_number',\n",
      "       'r_charge_degree', 'r_days_from_arrest', 'r_offense_date',\n",
      "       'r_charge_desc', 'r_jail_in', 'r_jail_out', 'violent_recid',\n",
      "       'is_violent_recid', 'vr_case_number', 'vr_charge_degree',\n",
      "       'vr_offense_date', 'vr_charge_desc', 'type_of_assessment',\n",
      "       'decile_score.1', 'score_text', 'screening_date',\n",
      "       'v_type_of_assessment', 'v_decile_score', 'v_score_text',\n",
      "       'v_screening_date', 'in_custody', 'out_custody', 'priors_count.1',\n",
      "       'start', 'end', 'event', 'two_year_recid'],\n",
      "      dtype='object')\n"
     ]
    }
   ],
   "source": [
    "df = pd.read_csv(\"compas-scores-two-years.csv\")\n",
    "print(df.shape)\n",
    "print(df.columns)"
   ]
  },
  {
   "cell_type": "markdown",
   "metadata": {},
   "source": [
    "We will first fit a model predicting if the person will reoffend in the next two years. We could use a classifier for this. \n",
    "\n",
    "Next steps:\n",
    "\n",
    "* look at the data for bias\n",
    "* build a classifier\n",
    "\n",
    "Sensitive variables: race, sex \n",
    "\n",
    "Target variable: two_year_recid\n",
    "\n",
    "Features: age/age_cat, juv_fel_count, juv_misd_count, juv_other_count, priors_count, c_charge_degree, score_text, days_b_screening_arrest, decile_score, length_of_stay"
   ]
  },
  {
   "cell_type": "markdown",
   "metadata": {},
   "source": [
    "## Categorizing data"
   ]
  },
  {
   "cell_type": "code",
   "execution_count": 47,
   "metadata": {},
   "outputs": [
    {
     "name": "stderr",
     "output_type": "stream",
     "text": [
      "C:\\Users\\annku\\AppData\\Local\\Temp\\ipykernel_17048\\2124011798.py:16: FutureWarning: Downcasting behavior in `replace` is deprecated and will be removed in a future version. To retain the old behavior, explicitly call `result.infer_objects(copy=False)`. To opt-in to the future behavior, set `pd.set_option('future.no_silent_downcasting', True)`\n",
      "  df[\"age_cat\"] = df[\"age_cat\"].replace({\"Less than 25\": 0, \"25 - 45\": 1, \"Greater than 45\": 2})\n"
     ]
    }
   ],
   "source": [
    "df = df[[\"race\", \"sex\", \"age_cat\", \"juv_fel_count\", \"juv_misd_count\", \"juv_other_count\", \"priors_count\", \"c_charge_degree\", \"two_year_recid\"]]\n",
    "\n",
    "df = df[(df[\"c_charge_degree\"] != 'O')]\n",
    "\n",
    "# sum 1-20 together\n",
    "df[\"juv_fel_count\"] = np.where(df[\"juv_fel_count\"] == 0, 0, 1)\n",
    "df[\"juv_misd_count\"] = np.where(df[\"juv_misd_count\"] == 0, 0, 1)\n",
    "df[\"juv_other_count\"] = np.where(df[\"juv_other_count\"] == 0, 0, 1)\n",
    "df[\"priors_count\"]\n",
    "\n",
    "df.loc[(df['priors_count'] >= 0) & (df['priors_count'] <= 10), 'priors_count'] = 0\n",
    "df.loc[(df['priors_count'] > 10) & (df['priors_count'] <= 20), 'priors_count'] = 1\n",
    "df.loc[(df['priors_count'] > 20), 'priors_count'] = 2\n",
    "\n",
    "df[\"c_charge_degree\"] = np.where(df[\"c_charge_degree\"] == \"M\", 0, 1)\n",
    "df[\"age_cat\"] = df[\"age_cat\"].replace({\"Less than 25\": 0, \"25 - 45\": 1, \"Greater than 45\": 2})\n",
    "# Filter out other races than african-americans and caucasians\n",
    "df = df[(df.race == \"Caucasian\") | (df.race == \"African-American\")]\n",
    "\n",
    "df[\"sensitive\"] = df.apply(lambda x: x[\"race\"][0] + x[\"sex\"][0], axis=1)\n",
    "\n",
    "df.head()\n",
    "df.to_csv(\"data_clean.csv\")"
   ]
  },
  {
   "cell_type": "code",
   "execution_count": 48,
   "metadata": {},
   "outputs": [
    {
     "name": "stdout",
     "output_type": "stream",
     "text": [
      "   sensitive  c_charge_degree  two_year_recid  count   sum      prob\n",
      "8         CF                0               0    190   259  0.733591\n",
      "0         AF                0               0    157   229  0.685590\n",
      "12        CM                0               0    459   715  0.641958\n",
      "2         AF                1               0    248   423  0.586288\n",
      "10        CF                1               0    178   308  0.577922\n",
      "7         AM                1               1   1204  2124  0.566855\n",
      "14        CM                1               0    661  1172  0.563993\n",
      "4         AM                0               0    470   920  0.510870\n",
      "5         AM                0               1    450   920  0.489130\n",
      "15        CM                1               1    511  1172  0.436007\n",
      "6         AM                1               0    920  2124  0.433145\n",
      "11        CF                1               1    130   308  0.422078\n",
      "3         AF                1               1    175   423  0.413712\n",
      "13        CM                0               1    256   715  0.358042\n",
      "1         AF                0               1     72   229  0.314410\n",
      "9         CF                0               1     69   259  0.266409\n"
     ]
    }
   ],
   "source": [
    "df = pd.read_csv(\"data_clean.csv\")\n",
    "\n",
    "df_count = df.groupby([\"sensitive\", \"c_charge_degree\", \"two_year_recid\"]).agg(\n",
    "    count=('race', 'count')).reset_index()\n",
    "\n",
    "df_sum = df_count.groupby([\"sensitive\", \"c_charge_degree\"]).agg(\n",
    "    sum=('count', 'sum')).reset_index()\n",
    "\n",
    "df_summary = pd.merge(df_count, df_sum, on=[\"sensitive\", \"c_charge_degree\"])\n",
    "\n",
    "df_summary[\"prob\"] = df_summary[\"count\"] / df_summary[\"sum\"]\n",
    "df_summary = df_summary.sort_values(by=\"prob\", ascending=False)\n",
    "print(df_summary)"
   ]
  },
  {
   "cell_type": "markdown",
   "metadata": {},
   "source": [
    "## Model\n",
    "\n",
    "Define logistic regression."
   ]
  },
  {
   "cell_type": "code",
   "execution_count": null,
   "metadata": {},
   "outputs": [
    {
     "name": "stdout",
     "output_type": "stream",
     "text": [
      "0.6059620596205962\n"
     ]
    },
    {
     "data": {
      "image/png": "[encoded data removed]",
      "text/plain": [
       "<Figure size 640x480 with 1 Axes>"
      ]
     },
     "metadata": {},
     "output_type": "display_data"
    }
   ],
   "source": [
    "df = pd.read_csv(\"data_clean.csv\")\n",
    "\n",
    "# Select relevant columns for features and target\n",
    "features = df[[\"juv_fel_count\", \"juv_misd_count\", \"priors_count\", \"c_charge_degree\"]]\n",
    "\n",
    "target = df['two_year_recid']\n",
    "\n",
    "# Handle missing values if any\n",
    "features = features.fillna(0)\n",
    "\n",
    "# Split into train and test sets\n",
    "X_train, X_test, y_train, y_test = train_test_split(features, target, test_size=0.3, random_state=42)\n",
    "\n",
    "# Train a logistic regression model\n",
    "model = LogisticRegression(max_iter=1000)\n",
    "model.fit(X_train, y_train)\n",
    "\n",
    "# Make predictions\n",
    "y_pred = model.predict(X_test)\n",
    "\n",
    "# Evaluate model performance\n",
    "accuracy = accuracy_score(y_test, y_pred)\n",
    "print(accuracy)\n",
    "\n",
    "# calculate number of misclassified samples by group\n",
    "df_test = X_test.copy()\n",
    "df_test['two_year_recid_actual'] = y_test\n",
    "df_test['two_year_recid_predicted'] = y_pred\n",
    "\n",
    "df_test[\"sensitive\"] = df.loc[df_test.index.values, \"sensitive\"]\n",
    "\n",
    "df_test = df_test[df_test[\"two_year_recid_actual\"] != df_test['two_year_recid_predicted']]\n",
    "\n",
    "# plot samples misclassified, count by sensitive information\n",
    "\n",
    "df_test[\"sensitive\"] = df_test[\"sensitive\"].replace({\"AM\": \"African-American, male\", \"AF\": \"African-American, female\",\n",
    "                                                 \"CM\": \"Caucasian, male\", \"CF\": \"Caucasian, female\"})\n",
    "\n",
    "ratio = df_test[\"sensitive\"].value_counts() / df_test.shape[0]\n",
    "\n",
    "ratio.plot(kind='bar', color='darkred', edgecolor='black')\n",
    "plt.title('Logistic regression', fontsize=16)\n",
    "plt.xlabel('')\n",
    "plt.xticks(rotation=45, ha='right', fontsize=14)\n",
    "plt.ylabel('Misclassified count', fontsize=12)\n",
    "plt.savefig(\"logistic.jpg\", bbox_inches = 'tight')"
   ]
  },
  {
   "cell_type": "code",
   "execution_count": 51,
   "metadata": {},
   "outputs": [],
   "source": [
    "df_test = X_test.copy()\n",
    "df_test['two_year_recid_actual'] = y_test\n",
    "df_test['two_year_recid_predicted'] = y_pred\n",
    "\n",
    "df_test[\"sensitive\"] = df.loc[df_test.index.values, \"sensitive\"]"
   ]
  },
  {
   "cell_type": "code",
   "execution_count": 53,
   "metadata": {},
   "outputs": [
    {
     "name": "stdout",
     "output_type": "stream",
     "text": [
      "   sensitive  c_charge_degree  two_year_recid_predicted  count  sum      prob\n",
      "8         CF                0                         0     68   70  0.971429\n",
      "10        CF                1                         0     84   87  0.965517\n",
      "12        CM                0                         0    214  224  0.955357\n",
      "0         AF                0                         0     60   65  0.923077\n",
      "14        CM                1                         0    315  354  0.889831\n",
      "4         AM                0                         0    229  277  0.826715\n",
      "2         AF                1                         0     97  119  0.815126\n",
      "6         AM                1                         0    468  649  0.721109\n",
      "7         AM                1                         1    181  649  0.278891\n",
      "3         AF                1                         1     22  119  0.184874\n",
      "5         AM                0                         1     48  277  0.173285\n",
      "15        CM                1                         1     39  354  0.110169\n",
      "1         AF                0                         1      5   65  0.076923\n",
      "13        CM                0                         1     10  224  0.044643\n",
      "11        CF                1                         1      3   87  0.034483\n",
      "9         CF                0                         1      2   70  0.028571\n"
     ]
    }
   ],
   "source": [
    "# twin test for model\n",
    "\n",
    "df_count = df_test.groupby([\"sensitive\", \"c_charge_degree\", \"two_year_recid_predicted\"]).agg(\n",
    "    count=('sensitive', 'count')).reset_index()\n",
    "\n",
    "df_sum = df_count.groupby([\"sensitive\", \"c_charge_degree\"]).agg(\n",
    "    sum=('count', 'sum')).reset_index()\n",
    "\n",
    "df_summary = pd.merge(df_count, df_sum, on=[\"sensitive\", \"c_charge_degree\"])\n",
    "\n",
    "df_summary[\"prob\"] = df_summary[\"count\"] / df_summary[\"sum\"]\n",
    "df_summary = df_summary.sort_values(by=\"prob\", ascending=False)\n",
    "print(df_summary)"
   ]
  },
  {
   "cell_type": "markdown",
   "metadata": {},
   "source": [
    "Note! When looking at c_charge_degree we found that the model was more biased toward African-American males than Caucasian males (prediction for AM 0.5 vs. CM 0.27; in data AM 0.56 and CM 0.43)"
   ]
  },
  {
   "cell_type": "code",
   "execution_count": 54,
   "metadata": {},
   "outputs": [
    {
     "data": {
      "text/plain": [
       "sensitive\n",
       "AM    399\n",
       "CM    207\n",
       "AF     72\n",
       "CF     49\n",
       "Name: count, dtype: int64"
      ]
     },
     "execution_count": 54,
     "metadata": {},
     "output_type": "execute_result"
    }
   ],
   "source": [
    "df_test = df_test[df_test[\"two_year_recid_actual\"] != df_test['two_year_recid_predicted']]\n",
    "\n",
    "# samples misclassified, count by sensitive information\n",
    "df_test[\"sensitive\"].value_counts()"
   ]
  },
  {
   "cell_type": "markdown",
   "metadata": {},
   "source": [
    "## Check for bias in data"
   ]
  },
  {
   "cell_type": "code",
   "execution_count": 55,
   "metadata": {},
   "outputs": [
    {
     "data": {
      "text/plain": [
       "sensitive\n",
       "AM    0.494959\n",
       "CM    0.306829\n",
       "AF    0.106016\n",
       "CF    0.092195\n",
       "Name: count, dtype: float64"
      ]
     },
     "execution_count": 55,
     "metadata": {},
     "output_type": "execute_result"
    }
   ],
   "source": [
    "df = pd.read_csv(\"data_clean.csv\")\n",
    "\n",
    "df[\"sensitive\"].value_counts() / df.shape[0]"
   ]
  }
 ],
 "metadata": {
  "kernelspec": {
   "display_name": "Python 3",
   "language": "python",
   "name": "python3"
  },
  "language_info": {
   "codemirror_mode": {
    "name": "ipython",
    "version": 3
   },
   "file_extension": ".py",
   "mimetype": "text/x-python",
   "name": "python",
   "nbconvert_exporter": "python",
   "pygments_lexer": "ipython3",
   "version": "3.11.0"
  }
 },
 "nbformat": 4,
 "nbformat_minor": 2
}
